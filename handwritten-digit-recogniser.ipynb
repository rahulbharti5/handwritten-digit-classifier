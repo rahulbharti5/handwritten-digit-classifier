{
 "cells": [
  {
   "cell_type": "markdown",
   "metadata": {},
   "source": [
    "## MNIST Handwritten Digit Classifier\n",
    "\n",
    "#### Overview\n",
    "This project involves building a deep learning model from scratch to classify handwritten digits from the MNIST dataset."
   ]
  },
  {
   "cell_type": "markdown",
   "metadata": {},
   "source": [
    "### 1. Loading Datasets and Preprocessng"
   ]
  },
  {
   "cell_type": "code",
   "execution_count": 1,
   "metadata": {},
   "outputs": [
    {
     "name": "stdout",
     "output_type": "stream",
     "text": [
      "Dimension of data: (70000, 784)\n",
      "Dimension of data: (70000, 784, 1)\n"
     ]
    }
   ],
   "source": [
    "from sklearn.datasets import fetch_openml\n",
    "import numpy as np\n",
    "import matplotlib.pyplot as plt\n",
    "\n",
    "# Load the MNIST dataset\n",
    "mnist = fetch_openml('mnist_784', version=1)\n",
    "data, y = np.array(mnist.data, dtype='float32'), np.array(mnist.target, dtype='int')\n",
    "\n",
    "# Reshape the data into 28x28 images\n",
    "print(f\"Dimension of data: {data.shape}\")\n",
    "# data = data.reshape(-1, 28, 28)\n",
    "data = data.reshape(-1, 784,1)\n",
    "print(f\"Dimension of data: {data.shape}\")\n",
    "\n",
    "# Split the data into training and testing sets\n",
    "num_train = 60000\n",
    "X_train, X_test = data[:num_train], data[num_train:]\n",
    "y_train, y_test = y[:num_train], y[num_train:]\n",
    "\n",
    "# Normalize the data\n",
    "div = X_test.max()\n",
    "X_test = X_test / div\n",
    "X_train = X_train / div"
   ]
  },
  {
   "cell_type": "markdown",
   "metadata": {},
   "source": [
    "### 2. All function Definitions"
   ]
  },
  {
   "cell_type": "code",
   "execution_count": 2,
   "metadata": {},
   "outputs": [],
   "source": [
    "def sigmoid(z):\n",
    "    return 1 / (1 + np.exp(-z))\n",
    "\n",
    "def sigmoid_derivative(z):\n",
    "    return sigmoid(z) * (1 - sigmoid(z))\n",
    "\n",
    "def predict(W1, b1, W2, b2, X):\n",
    "    # Forward Propagation\n",
    "    Z1 = np.dot(W1, X) + b1\n",
    "    A1 = sigmoid(Z1)\n",
    "\n",
    "    Z2 = np.dot(W2, A1) + b2\n",
    "    A2 = sigmoid(Z2)\n",
    "\n",
    "    predicted_class = np.argmax(A2)\n",
    "\n",
    "    return predicted_class\n",
    "\n",
    "def calculate_accuracy(W1, b1, W2, b2, X, y):\n",
    "    correct_predictions = 0\n",
    "\n",
    "    for i in range(len(X)):\n",
    "        # Predict the class for each example\n",
    "        prediction = predict(W1, b1, W2, b2, X[i])\n",
    "\n",
    "        # Check if the prediction is correct\n",
    "        if prediction == y[i]:\n",
    "            correct_predictions += 1\n",
    "\n",
    "    accuracy = correct_predictions / len(X)\n",
    "    return accuracy"
   ]
  },
  {
   "cell_type": "markdown",
   "metadata": {},
   "source": [
    "### 3. Train the model Definition"
   ]
  },
  {
   "cell_type": "code",
   "execution_count": 5,
   "metadata": {},
   "outputs": [],
   "source": [
    "import numpy as np\n",
    "from tqdm import tqdm\n",
    "import time\n",
    "\n",
    "# Initialize the weights and biases\n",
    "W1 = np.random.randn(128, 784) * 0.01\n",
    "W2 = np.random.randn(10, 128) * 0.01\n",
    "b1 = np.zeros((128, 1))\n",
    "b2 = np.zeros((10, 1))\n",
    "\n",
    "# Define the training function\n",
    "def Train(epoch, X_train, y_train, W1, W2,b1,b2, learning_rate, X_test, y_test):\n",
    "    # Measuring the time taken by the model to train\n",
    "    StartTime=time.time()\n",
    "    for i in range(epoch):\n",
    "        cost = 0\n",
    "        for j in tqdm(range(len(X_train)), desc=f'Epoch {i+1} training '):\n",
    "            X = X_train[j]\n",
    "            Z1 = np.dot(W1, X) + b1  # (16, 784) * (784, 1) + (16, 1) = (16, 1)\n",
    "            A1 = sigmoid(Z1)\n",
    "            Z2 = np.dot(W2, A1) + b2  # (10, 16) * (16, 1) + (10, 1) = (10, 1)\n",
    "            A2 = sigmoid(Z2)\n",
    "\n",
    "            y_true = np.zeros((10, 1))\n",
    "            y_true[y_train[j]] = 1\n",
    "\n",
    "            d4_ = -2 * (y_true - A2) * sigmoid_derivative(Z2)\n",
    "            d4 = np.dot(d4_, A1.T)\n",
    "            W2 -= learning_rate * d4\n",
    "            b2 -= learning_rate * d4_\n",
    "\n",
    "            d3_ = np.dot(W2.T, d4_) * sigmoid_derivative(Z1)\n",
    "            d3 = np.dot(d3_, X.T)\n",
    "            W1 -= learning_rate * d3\n",
    "            b1 -= learning_rate * d3_\n",
    "\n",
    "            cost += np.sum((y_true - A2) ** 2)\n",
    "        accuracy = calculate_accuracy(W1, b1, W2, b2, X_test, y_test)\n",
    "        print(f\"Epoch {i + 1}: Cost = {cost:.2f}, Accuracy = {accuracy * 100:.2f}%\")\n",
    "        Endtime = time.time()\n",
    "        print('Total Training Time taken: ',round((Endtime-StartTime)/60),'Minutes')\n",
    "    return W1, b1, W2, b2\n",
    "\n",
    "# Assuming calculate_accuracy is defined elsewhere\n",
    "# Example usage (you need to define X_train, y_train, W1, W2, learning_rate, X_test, and y_test):\n",
    "# W1, b1, W2, b2 = Train(10, X_train, y_train, W1, W2, learning_rate, X_test, y_test)"
   ]
  },
  {
   "cell_type": "markdown",
   "metadata": {},
   "source": [
    "### 4. Model training"
   ]
  },
  {
   "cell_type": "code",
   "execution_count": 6,
   "metadata": {},
   "outputs": [
    {
     "name": "stderr",
     "output_type": "stream",
     "text": [
      "Epoch 1 training : 100%|██████████| 60000/60000 [00:12<00:00, 4667.69it/s]\n"
     ]
    },
    {
     "name": "stdout",
     "output_type": "stream",
     "text": [
      "Epoch 1: Cost = 25841.34, Accuracy = 89.24%\n",
      "Total Training Time taken:  0 Minutes\n"
     ]
    },
    {
     "name": "stderr",
     "output_type": "stream",
     "text": [
      "Epoch 2 training : 100%|██████████| 60000/60000 [00:13<00:00, 4516.69it/s]\n"
     ]
    },
    {
     "name": "stdout",
     "output_type": "stream",
     "text": [
      "Epoch 2: Cost = 9997.32, Accuracy = 91.75%\n",
      "Total Training Time taken:  0 Minutes\n"
     ]
    },
    {
     "name": "stderr",
     "output_type": "stream",
     "text": [
      "Epoch 3 training : 100%|██████████| 60000/60000 [00:12<00:00, 4647.59it/s]\n"
     ]
    },
    {
     "name": "stdout",
     "output_type": "stream",
     "text": [
      "Epoch 3: Cost = 8124.16, Accuracy = 92.76%\n",
      "Total Training Time taken:  1 Minutes\n"
     ]
    },
    {
     "name": "stderr",
     "output_type": "stream",
     "text": [
      "Epoch 4 training : 100%|██████████| 60000/60000 [00:13<00:00, 4462.66it/s]\n"
     ]
    },
    {
     "name": "stdout",
     "output_type": "stream",
     "text": [
      "Epoch 4: Cost = 7095.53, Accuracy = 93.60%\n",
      "Total Training Time taken:  1 Minutes\n"
     ]
    },
    {
     "name": "stderr",
     "output_type": "stream",
     "text": [
      "Epoch 5 training : 100%|██████████| 60000/60000 [00:13<00:00, 4347.96it/s]\n"
     ]
    },
    {
     "name": "stdout",
     "output_type": "stream",
     "text": [
      "Epoch 5: Cost = 6356.41, Accuracy = 94.11%\n",
      "Total Training Time taken:  1 Minutes\n"
     ]
    },
    {
     "name": "stderr",
     "output_type": "stream",
     "text": [
      "Epoch 6 training : 100%|██████████| 60000/60000 [00:13<00:00, 4347.86it/s]\n"
     ]
    },
    {
     "name": "stdout",
     "output_type": "stream",
     "text": [
      "Epoch 6: Cost = 5773.03, Accuracy = 94.60%\n",
      "Total Training Time taken:  1 Minutes\n"
     ]
    },
    {
     "name": "stderr",
     "output_type": "stream",
     "text": [
      "Epoch 7 training : 100%|██████████| 60000/60000 [00:14<00:00, 4277.86it/s]\n"
     ]
    },
    {
     "name": "stdout",
     "output_type": "stream",
     "text": [
      "Epoch 7: Cost = 5295.19, Accuracy = 95.14%\n",
      "Total Training Time taken:  2 Minutes\n"
     ]
    },
    {
     "name": "stderr",
     "output_type": "stream",
     "text": [
      "Epoch 8 training : 100%|██████████| 60000/60000 [00:13<00:00, 4348.26it/s]\n"
     ]
    },
    {
     "name": "stdout",
     "output_type": "stream",
     "text": [
      "Epoch 8: Cost = 4895.98, Accuracy = 95.53%\n",
      "Total Training Time taken:  2 Minutes\n"
     ]
    },
    {
     "name": "stderr",
     "output_type": "stream",
     "text": [
      "Epoch 9 training : 100%|██████████| 60000/60000 [00:14<00:00, 4226.60it/s]\n"
     ]
    },
    {
     "name": "stdout",
     "output_type": "stream",
     "text": [
      "Epoch 9: Cost = 4559.02, Accuracy = 95.80%\n",
      "Total Training Time taken:  2 Minutes\n"
     ]
    },
    {
     "name": "stderr",
     "output_type": "stream",
     "text": [
      "Epoch 10 training : 100%|██████████| 60000/60000 [00:13<00:00, 4562.65it/s]\n"
     ]
    },
    {
     "name": "stdout",
     "output_type": "stream",
     "text": [
      "Epoch 10: Cost = 4271.51, Accuracy = 96.04%\n",
      "Total Training Time taken:  2 Minutes\n"
     ]
    }
   ],
   "source": [
    "# Train the model\n",
    "learning_rate = 0.01\n",
    "W1, b1, W2, b2 = Train(10, X_train, y_train, W1, W2,b1,b2, learning_rate, X_test, y_test)\n",
    "np.savez('trained_weights.npz', W1=W1, b1=b1, W2=W2, b2=b2)"
   ]
  },
  {
   "cell_type": "markdown",
   "metadata": {},
   "source": [
    "### 5. Model Evaluation and Confusion Matrix"
   ]
  },
  {
   "cell_type": "code",
   "execution_count": 7,
   "metadata": {},
   "outputs": [
    {
     "data": {
      "image/png": "[encoded data removed]",
      "text/plain": [
       "<Figure size 640x480 with 2 Axes>"
      ]
     },
     "metadata": {},
     "output_type": "display_data"
    }
   ],
   "source": [
    "y_predicted = []\n",
    "for i in range(len(X_test)):\n",
    "    y_predicted.append(predict(W1, b1, W2, b2, X_test[i]))\n",
    "\n",
    "from sklearn.metrics import confusion_matrix\n",
    "import seaborn as sns\n",
    "\n",
    "# Assuming you have the variables y_true and y_predicted\n",
    "\n",
    "# Calculate the confusion matrix\n",
    "cm = confusion_matrix(y_test, y_predicted)\n",
    "\n",
    "# Plot the confusion matrix as a heatmap\n",
    "sns.heatmap(cm, annot=True, fmt='d', cmap='Blues')\n",
    "plt.xlabel('Predicted')\n",
    "plt.ylabel('True')\n",
    "plt.title('Confusion Matrix')\n",
    "plt.show()\n"
   ]
  },
  {
   "cell_type": "code",
   "execution_count": 13,
   "metadata": {},
   "outputs": [
    {
     "name": "stdout",
     "output_type": "stream",
     "text": [
      "True label: 4\n",
      "Predicted class: 4\n"
     ]
    },
    {
     "data": {
      "image/png": "[encoded data removed]",
      "text/plain": [
       "<Figure size 640x480 with 1 Axes>"
      ]
     },
     "metadata": {},
     "output_type": "display_data"
    }
   ],
   "source": [
    "import random\n",
    "\n",
    "# Select a random index from the test dataset\n",
    "random_index = random.randint(0, len(X_test) - 1)\n",
    "\n",
    "# Get the corresponding image and true label\n",
    "random_image = X_test[random_index]\n",
    "true_label = y_test[random_index]\n",
    "\n",
    "# Predict the class for the random image\n",
    "predicted_class = predict(W1, b1, W2, b2, random_image)\n",
    "\n",
    "print(f\"True label: {true_label}\")\n",
    "print(f\"Predicted class: {predicted_class}\")\n",
    "\n",
    "# Display the image\n",
    "plt.imshow(random_image.reshape(28, 28), cmap='gray')\n",
    "plt.title(f\"True label: {true_label}, Predicted: {predicted_class}\")\n",
    "plt.axis('off')\n",
    "plt.show()"
   ]
  }
 ],
 "metadata": {
  "kernelspec": {
   "display_name": "venv",
   "language": "python",
   "name": "python3"
  },
  "language_info": {
   "codemirror_mode": {
    "name": "ipython",
    "version": 3
   },
   "file_extension": ".py",
   "mimetype": "text/x-python",
   "name": "python",
   "nbconvert_exporter": "python",
   "pygments_lexer": "ipython3",
   "version": "3.12.3"
  }
 },
 "nbformat": 4,
 "nbformat_minor": 2
}
